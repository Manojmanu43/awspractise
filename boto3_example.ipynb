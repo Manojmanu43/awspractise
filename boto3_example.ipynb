{
 "cells": [
  {
   "cell_type": "code",
   "execution_count": 72,
   "metadata": {},
   "outputs": [],
   "source": [
    "import logging\n",
    "import boto3\n",
    "from botocore.exceptions import ClientError"
   ]
  },
  {
   "cell_type": "markdown",
   "metadata": {},
   "source": [
    "## List down all buckets"
   ]
  },
  {
   "cell_type": "code",
   "execution_count": 73,
   "metadata": {},
   "outputs": [
    {
     "name": "stdout",
     "output_type": "stream",
     "text": [
      "s3.Bucket(name='aws-glue-scripts-645956733361-ap-south-1')\n",
      "s3.Bucket(name='aws-glue-temporary-645956733361-ap-south-1')\n",
      "s3.Bucket(name='boto3-bucket-test100')\n",
      "s3.Bucket(name='data-bucket-redshift-unload')\n",
      "s3.Bucket(name='dataset-dump')\n",
      "s3.Bucket(name='hivedata-load')\n",
      "s3.Bucket(name='testing-project1')\n"
     ]
    }
   ],
   "source": [
    "s3 = boto3.resource('s3')\n",
    "for bucket in s3.buckets.all():\n",
    "    print(bucket)"
   ]
  },
  {
   "cell_type": "markdown",
   "metadata": {},
   "source": [
    "## Upload_file"
   ]
  },
  {
   "cell_type": "code",
   "execution_count": 74,
   "metadata": {},
   "outputs": [],
   "source": [
    "import os;\n",
    "os.chdir('/home/jupyter/jupyter_default_dir/')\n",
    "data =open('10000 Sales Records.csv','rb')"
   ]
  },
  {
   "cell_type": "code",
   "execution_count": 78,
   "metadata": {},
   "outputs": [
    {
     "data": {
      "text/plain": [
       "s3.Object(bucket_name='dataset-dump', key='input/new_file2.csv')"
      ]
     },
     "execution_count": 78,
     "metadata": {},
     "output_type": "execute_result"
    }
   ],
   "source": [
    "s3.Bucket('dataset-dump').put_object(Key='input/new_file2.csv',Body=data)"
   ]
  },
  {
   "cell_type": "markdown",
   "metadata": {},
   "source": [
    "## List down all buckets using boto3.client"
   ]
  },
  {
   "cell_type": "code",
   "execution_count": 33,
   "metadata": {},
   "outputs": [
    {
     "data": {
      "text/plain": [
       "[{'Name': 'aws-glue-scripts-645956733361-ap-south-1',\n",
       "  'CreationDate': datetime.datetime(2021, 10, 21, 6, 18, 33, tzinfo=tzlocal())},\n",
       " {'Name': 'aws-glue-temporary-645956733361-ap-south-1',\n",
       "  'CreationDate': datetime.datetime(2021, 10, 20, 2, 34, 36, tzinfo=tzlocal())},\n",
       " {'Name': 'data-bucket-redshift-unload',\n",
       "  'CreationDate': datetime.datetime(2021, 10, 20, 2, 44, 4, tzinfo=tzlocal())},\n",
       " {'Name': 'dataset-dump',\n",
       "  'CreationDate': datetime.datetime(2021, 10, 21, 9, 58, 28, tzinfo=tzlocal())},\n",
       " {'Name': 'hivedata-load',\n",
       "  'CreationDate': datetime.datetime(2021, 10, 18, 16, 35, 52, tzinfo=tzlocal())},\n",
       " {'Name': 'testing-project1',\n",
       "  'CreationDate': datetime.datetime(2021, 10, 19, 17, 14, 28, tzinfo=tzlocal())}]"
      ]
     },
     "execution_count": 33,
     "metadata": {},
     "output_type": "execute_result"
    }
   ],
   "source": [
    "s3= boto3.client('s3')\n",
    "response = s3.list_buckets()\n",
    "response['Buckets']"
   ]
  },
  {
   "cell_type": "code",
   "execution_count": 36,
   "metadata": {},
   "outputs": [
    {
     "name": "stdout",
     "output_type": "stream",
     "text": [
      "aws-glue-scripts-645956733361-ap-south-1         2021-10-21 06:18:33+00:00\n",
      "aws-glue-temporary-645956733361-ap-south-1         2021-10-20 02:34:36+00:00\n",
      "data-bucket-redshift-unload         2021-10-20 02:44:04+00:00\n",
      "dataset-dump         2021-10-21 09:58:28+00:00\n",
      "hivedata-load         2021-10-18 16:35:52+00:00\n",
      "testing-project1         2021-10-19 17:14:28+00:00\n"
     ]
    }
   ],
   "source": [
    "for bucket in response['Buckets']:\n",
    "    print(bucket['Name'], '       ', bucket['CreationDate'])"
   ]
  },
  {
   "cell_type": "markdown",
   "metadata": {},
   "source": [
    "## Create Bucket"
   ]
  },
  {
   "cell_type": "code",
   "execution_count": 44,
   "metadata": {},
   "outputs": [],
   "source": [
    "try:\n",
    "    region='ap-south-1'\n",
    "    s3_client = boto3.client('s3',region_name=region)\n",
    "    location = {'LocationConstraint': region} \n",
    "    s3_client.create_bucket(Bucket='boto3-bucket-test100',\n",
    "                           CreateBucketConfiguration=location)\n",
    "except ClientError as e:\n",
    "    logging.error(e)"
   ]
  },
  {
   "cell_type": "code",
   "execution_count": 45,
   "metadata": {},
   "outputs": [
    {
     "data": {
      "text/plain": [
       "[{'Name': 'aws-glue-scripts-645956733361-ap-south-1',\n",
       "  'CreationDate': datetime.datetime(2021, 10, 21, 6, 18, 33, tzinfo=tzlocal())},\n",
       " {'Name': 'aws-glue-temporary-645956733361-ap-south-1',\n",
       "  'CreationDate': datetime.datetime(2021, 10, 20, 2, 34, 36, tzinfo=tzlocal())},\n",
       " {'Name': 'boto3-bucket-test100',\n",
       "  'CreationDate': datetime.datetime(2021, 10, 21, 12, 28, 45, tzinfo=tzlocal())},\n",
       " {'Name': 'data-bucket-redshift-unload',\n",
       "  'CreationDate': datetime.datetime(2021, 10, 20, 2, 44, 4, tzinfo=tzlocal())},\n",
       " {'Name': 'dataset-dump',\n",
       "  'CreationDate': datetime.datetime(2021, 10, 21, 9, 58, 28, tzinfo=tzlocal())},\n",
       " {'Name': 'hivedata-load',\n",
       "  'CreationDate': datetime.datetime(2021, 10, 18, 16, 35, 52, tzinfo=tzlocal())},\n",
       " {'Name': 'testing-project1',\n",
       "  'CreationDate': datetime.datetime(2021, 10, 19, 17, 14, 28, tzinfo=tzlocal())}]"
      ]
     },
     "execution_count": 45,
     "metadata": {},
     "output_type": "execute_result"
    }
   ],
   "source": [
    "s3= boto3.client('s3')\n",
    "response = s3.list_buckets()\n",
    "response['Buckets']"
   ]
  },
  {
   "cell_type": "markdown",
   "metadata": {},
   "source": [
    "## Uploading File"
   ]
  },
  {
   "cell_type": "code",
   "execution_count": 50,
   "metadata": {},
   "outputs": [],
   "source": [
    "s3_client = boto3.client('s3')\n",
    "s3_client.upload_file('10000 Sales Records.csv','dataset-dump','input/test-upload-client.csv')"
   ]
  },
  {
   "cell_type": "markdown",
   "metadata": {},
   "source": [
    "## Downloading Files"
   ]
  },
  {
   "cell_type": "code",
   "execution_count": 51,
   "metadata": {},
   "outputs": [],
   "source": [
    "s3_client.download_file('dataset-dump','input/test-upload-client.csv','download-from-s3')"
   ]
  },
  {
   "cell_type": "code",
   "execution_count": 52,
   "metadata": {},
   "outputs": [],
   "source": [
    "with open('donwload_filobj', 'wb') as f:\n",
    "    s3.download_fileobj('dataset-dump','input/test-upload-client.csv', f)"
   ]
  },
  {
   "cell_type": "markdown",
   "metadata": {},
   "source": [
    "## Multipart transfers"
   ]
  },
  {
   "cell_type": "code",
   "execution_count": 53,
   "metadata": {},
   "outputs": [],
   "source": [
    "from boto3.s3.transfer import TransferConfig"
   ]
  },
  {
   "cell_type": "code",
   "execution_count": 55,
   "metadata": {},
   "outputs": [],
   "source": [
    "KB = 1024 ** 1\n",
    "config = TransferConfig(multipart_threshold=1*KB)\n",
    "\n",
    "# Perform the transfer\n",
    "s3 = boto3.client('s3')\n",
    "s3.upload_file('10000 Sales Records.csv','dataset-dump','input/test-upload-multi-part.csv', Config=config)"
   ]
  },
  {
   "cell_type": "markdown",
   "metadata": {},
   "source": [
    "## Concurrent transfer operations"
   ]
  },
  {
   "cell_type": "code",
   "execution_count": 56,
   "metadata": {},
   "outputs": [],
   "source": [
    "config = TransferConfig(max_concurrency=5)\n",
    "s3.upload_file('10000 Sales Records.csv','dataset-dump','input/test-upload-multi-concurrent.csv', Config=config)"
   ]
  },
  {
   "cell_type": "markdown",
   "metadata": {},
   "source": [
    "## Bucket_policy"
   ]
  },
  {
   "cell_type": "markdown",
   "metadata": {},
   "source": [
    "result = s3_client.get_bucket_policy(Bucket='dataset-dump')"
   ]
  },
  {
   "cell_type": "code",
   "execution_count": 59,
   "metadata": {},
   "outputs": [
    {
     "name": "stdout",
     "output_type": "stream",
     "text": [
      "{'ResponseMetadata': {'RequestId': '45QNE5QP4EG3BPN7', 'HostId': '6xqzuBpjio7qKk+x4k7MxAf/zHnSeRAq+sOJGN0WxSNkrGhJjRgycvevaiP+D4Dh9QKM7jGo6sM=', 'HTTPStatusCode': 200, 'HTTPHeaders': {'x-amz-id-2': '6xqzuBpjio7qKk+x4k7MxAf/zHnSeRAq+sOJGN0WxSNkrGhJjRgycvevaiP+D4Dh9QKM7jGo6sM=', 'x-amz-request-id': '45QNE5QP4EG3BPN7', 'date': 'Thu, 21 Oct 2021 14:09:21 GMT', 'content-type': 'application/xml', 'transfer-encoding': 'chunked', 'server': 'AmazonS3'}, 'RetryAttempts': 0}, 'Owner': {'ID': '512d2f16169d6d669ffbc6821a8c9c43c5066dba9afb159ed16d4e59941e9ec9'}, 'Grants': [{'Grantee': {'ID': '512d2f16169d6d669ffbc6821a8c9c43c5066dba9afb159ed16d4e59941e9ec9', 'Type': 'CanonicalUser'}, 'Permission': 'FULL_CONTROL'}]}\n"
     ]
    }
   ],
   "source": [
    "result = s3.get_bucket_acl(Bucket='dataset-dump')\n",
    "print(result)"
   ]
  },
  {
   "cell_type": "markdown",
   "metadata": {},
   "source": [
    "## CORS configuration"
   ]
  },
  {
   "cell_type": "code",
   "execution_count": 64,
   "metadata": {},
   "outputs": [
    {
     "name": "stdout",
     "output_type": "stream",
     "text": [
      "{'ResponseMetadata': {'RequestId': '84ZKD3RN8HR72F5N', 'HostId': '23BFIQkQr14X7Jg8ofGmY/EG8x+904j4938hHngNHePt4CxzKau+3cmqHXJTemdJOanB71saBmA=', 'HTTPStatusCode': 200, 'HTTPHeaders': {'x-amz-id-2': '23BFIQkQr14X7Jg8ofGmY/EG8x+904j4938hHngNHePt4CxzKau+3cmqHXJTemdJOanB71saBmA=', 'x-amz-request-id': '84ZKD3RN8HR72F5N', 'date': 'Thu, 21 Oct 2021 14:12:39 GMT', 'transfer-encoding': 'chunked', 'server': 'AmazonS3'}, 'RetryAttempts': 0}, 'CORSRules': [{'AllowedHeaders': ['Authorization'], 'AllowedMethods': ['GET', 'PUT'], 'AllowedOrigins': ['*'], 'ExposeHeaders': ['GET', 'PUT'], 'MaxAgeSeconds': 3000}]}\n"
     ]
    }
   ],
   "source": [
    "try:\n",
    "    response = s3.get_bucket_cors(Bucket='dataset-dump')\n",
    "    print(response)\n",
    "except ClientError as e:\n",
    "    print(e)"
   ]
  },
  {
   "cell_type": "code",
   "execution_count": 62,
   "metadata": {},
   "outputs": [
    {
     "data": {
      "text/plain": [
       "{'ResponseMetadata': {'RequestId': '1N53FWV50A1WNVF3',\n",
       "  'HostId': 'GI79B7pOyumoT/sERCVAn305zCy0nIakIbrDXR1vbBVdVQ4L5pmaDz4lEc2Uf356LQjWxudkIyM=',\n",
       "  'HTTPStatusCode': 200,\n",
       "  'HTTPHeaders': {'x-amz-id-2': 'GI79B7pOyumoT/sERCVAn305zCy0nIakIbrDXR1vbBVdVQ4L5pmaDz4lEc2Uf356LQjWxudkIyM=',\n",
       "   'x-amz-request-id': '1N53FWV50A1WNVF3',\n",
       "   'date': 'Thu, 21 Oct 2021 14:12:17 GMT',\n",
       "   'server': 'AmazonS3',\n",
       "   'content-length': '0'},\n",
       "  'RetryAttempts': 0}}"
      ]
     },
     "execution_count": 62,
     "metadata": {},
     "output_type": "execute_result"
    }
   ],
   "source": [
    "cors_configuration = {\n",
    "    'CORSRules': [{\n",
    "        'AllowedHeaders': ['Authorization'],\n",
    "        'AllowedMethods': ['GET', 'PUT'],\n",
    "        'AllowedOrigins': ['*'],\n",
    "        'ExposeHeaders': ['GET', 'PUT'],\n",
    "        'MaxAgeSeconds': 3000\n",
    "    }]\n",
    "}\n",
    "s3_client.put_bucket_cors(Bucket='dataset-dump',\n",
    "                   CORSConfiguration=cors_configuration)"
   ]
  },
  {
   "cell_type": "markdown",
   "metadata": {},
   "source": [
    "## SES"
   ]
  },
  {
   "cell_type": "code",
   "execution_count": 70,
   "metadata": {},
   "outputs": [
    {
     "name": "stdout",
     "output_type": "stream",
     "text": [
      "200\n"
     ]
    }
   ],
   "source": [
    "ses = boto3.client('ses')\n",
    "\n",
    "response = ses.verify_email_identity(\n",
    "  EmailAddress = 'venkatamanoj.thokala@gmail.com'\n",
    ")\n",
    "print(response['ResponseMetadata']['HTTPStatusCode'])"
   ]
  },
  {
   "cell_type": "code",
   "execution_count": null,
   "metadata": {},
   "outputs": [],
   "source": []
  }
 ],
 "metadata": {
  "kernelspec": {
   "display_name": "Python 3",
   "language": "python",
   "name": "python3"
  },
  "language_info": {
   "codemirror_mode": {
    "name": "ipython",
    "version": 3
   },
   "file_extension": ".py",
   "mimetype": "text/x-python",
   "name": "python",
   "nbconvert_exporter": "python",
   "pygments_lexer": "ipython3",
   "version": "3.6.10"
  }
 },
 "nbformat": 4,
 "nbformat_minor": 4
}
