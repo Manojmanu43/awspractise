{
 "cells": [
  {
   "cell_type": "code",
   "execution_count": 1,
   "metadata": {},
   "outputs": [
    {
     "name": "stdout",
     "output_type": "stream",
     "text": [
      "Starting Spark application\n"
     ]
    },
    {
     "data": {
      "text/html": [
       "<table>\n",
       "<tr><th>ID</th><th>YARN Application ID</th><th>Kind</th><th>State</th><th>Spark UI</th><th>Driver log</th><th>Current session?</th></tr><tr><td>1</td><td>None</td><td>pyspark</td><td>idle</td><td></td><td></td><td>✔</td></tr></table>"
      ],
      "text/plain": [
       "<IPython.core.display.HTML object>"
      ]
     },
     "metadata": {},
     "output_type": "display_data"
    },
    {
     "data": {
      "application/vnd.jupyter.widget-view+json": {
       "model_id": "",
       "version_major": 2,
       "version_minor": 0
      },
      "text/plain": [
       "FloatProgress(value=0.0, bar_style='info', description='Progress:', layout=Layout(height='25px', width='50%'),…"
      ]
     },
     "metadata": {},
     "output_type": "display_data"
    },
    {
     "name": "stdout",
     "output_type": "stream",
     "text": [
      "SparkSession available as 'spark'.\n"
     ]
    },
    {
     "data": {
      "application/vnd.jupyter.widget-view+json": {
       "model_id": "",
       "version_major": 2,
       "version_minor": 0
      },
      "text/plain": [
       "FloatProgress(value=0.0, bar_style='info', description='Progress:', layout=Layout(height='25px', width='50%'),…"
      ]
     },
     "metadata": {},
     "output_type": "display_data"
    }
   ],
   "source": [
    "import sys\n",
    "from awsglue.transforms import *\n",
    "from awsglue.utils import getResolvedOptions\n",
    "from pyspark.context import SparkContext\n",
    "from awsglue.context import GlueContext\n",
    "from awsglue.job import Job\n",
    "\n",
    "glueContext = GlueContext(SparkContext.getOrCreate())"
   ]
  },
  {
   "cell_type": "code",
   "execution_count": 2,
   "metadata": {},
   "outputs": [
    {
     "data": {
      "application/vnd.jupyter.widget-view+json": {
       "model_id": "",
       "version_major": 2,
       "version_minor": 0
      },
      "text/plain": [
       "FloatProgress(value=0.0, bar_style='info', description='Progress:', layout=Layout(height='25px', width='50%'),…"
      ]
     },
     "metadata": {},
     "output_type": "display_data"
    },
    {
     "name": "stdout",
     "output_type": "stream",
     "text": [
      "Count:  2823\n",
      "root\n",
      "|-- ordernumber: long\n",
      "|-- quantityordered: long\n",
      "|-- priceeach: double\n",
      "|-- orderlinenumber: long\n",
      "|-- sales: double\n",
      "|-- orderdate: string\n",
      "|-- status: string\n",
      "|-- qtr_id: long\n",
      "|-- month_id: long\n",
      "|-- year_id: long\n",
      "|-- productline: string\n",
      "|-- msrp: long\n",
      "|-- productcode: string\n",
      "|-- dealsize: string\n",
      "|-- customerid: long"
     ]
    }
   ],
   "source": [
    "sales = glueContext.create_dynamic_frame.from_catalog(\n",
    "                 database=\"s3_database\",\n",
    "                 table_name=\"sales\")\n",
    "print (\"Count: \", sales.count())\n",
    "sales.printSchema()"
   ]
  },
  {
   "cell_type": "markdown",
   "metadata": {},
   "source": [
    "## ApplyMapping"
   ]
  },
  {
   "cell_type": "code",
   "execution_count": 8,
   "metadata": {},
   "outputs": [
    {
     "data": {
      "application/vnd.jupyter.widget-view+json": {
       "model_id": "",
       "version_major": 2,
       "version_minor": 0
      },
      "text/plain": [
       "FloatProgress(value=0.0, bar_style='info', description='Progress:', layout=Layout(height='25px', width='50%'),…"
      ]
     },
     "metadata": {},
     "output_type": "display_data"
    },
    {
     "name": "stdout",
     "output_type": "stream",
     "text": [
      "+-----------+\n",
      "|ordernumber|\n",
      "+-----------+\n",
      "|    10107.0|\n",
      "|    10121.0|\n",
      "|    10134.0|\n",
      "|    10145.0|\n",
      "|    10159.0|\n",
      "+-----------+\n",
      "only showing top 5 rows"
     ]
    }
   ],
   "source": [
    "new_dyf = ApplyMapping.apply(frame = sales, mappings = [('ordernumber','long','ordernumber','double'),])\n",
    "new_dyf.toDF().show(5)"
   ]
  },
  {
   "cell_type": "markdown",
   "metadata": {},
   "source": [
    "## DropFields"
   ]
  },
  {
   "cell_type": "code",
   "execution_count": 16,
   "metadata": {},
   "outputs": [
    {
     "data": {
      "application/vnd.jupyter.widget-view+json": {
       "model_id": "",
       "version_major": 2,
       "version_minor": 0
      },
      "text/plain": [
       "FloatProgress(value=0.0, bar_style='info', description='Progress:', layout=Layout(height='25px', width='50%'),…"
      ]
     },
     "metadata": {},
     "output_type": "display_data"
    },
    {
     "name": "stdout",
     "output_type": "stream",
     "text": [
      "+-----------+---------------+---------+---------------+-------+---------------+-------+------+--------+-------+-----------+----+-----------+\n",
      "|ordernumber|quantityordered|priceeach|orderlinenumber|  sales|      orderdate| status|qtr_id|month_id|year_id|productline|msrp|productcode|\n",
      "+-----------+---------------+---------+---------------+-------+---------------+-------+------+--------+-------+-----------+----+-----------+\n",
      "|      10107|             30|     95.7|              2| 2871.0| 2/24/2003 0:00|Shipped|     1|       2|   2003|Motorcycles|  95|   S10_1678|\n",
      "|      10121|             34|    81.35|              5| 2765.9|  5/7/2003 0:00|Shipped|     2|       5|   2003|Motorcycles|  95|   S10_1678|\n",
      "|      10134|             41|    94.74|              2|3884.34|  7/1/2003 0:00|Shipped|     3|       7|   2003|Motorcycles|  95|   S10_1678|\n",
      "|      10145|             45|    83.26|              6| 3746.7| 8/25/2003 0:00|Shipped|     3|       8|   2003|Motorcycles|  95|   S10_1678|\n",
      "|      10159|             49|    100.0|             14|5205.27|10/10/2003 0:00|Shipped|     4|      10|   2003|Motorcycles|  95|   S10_1678|\n",
      "+-----------+---------------+---------+---------------+-------+---------------+-------+------+--------+-------+-----------+----+-----------+\n",
      "only showing top 5 rows"
     ]
    }
   ],
   "source": [
    "new_dyf = DropFields.apply(sales,paths=['dealsize','customerid'])\n",
    "new_dyf.toDF().show(5)"
   ]
  },
  {
   "cell_type": "markdown",
   "metadata": {},
   "source": [
    "## DropNullFields"
   ]
  },
  {
   "cell_type": "code",
   "execution_count": 18,
   "metadata": {},
   "outputs": [
    {
     "data": {
      "application/vnd.jupyter.widget-view+json": {
       "model_id": "",
       "version_major": 2,
       "version_minor": 0
      },
      "text/plain": [
       "FloatProgress(value=0.0, bar_style='info', description='Progress:', layout=Layout(height='25px', width='50%'),…"
      ]
     },
     "metadata": {},
     "output_type": "display_data"
    },
    {
     "name": "stdout",
     "output_type": "stream",
     "text": [
      "null_fields []\n",
      "2823"
     ]
    }
   ],
   "source": [
    "new_dyf = DropNullFields.apply(frame=sales)\n",
    "new_dyf.toDF().count()"
   ]
  },
  {
   "cell_type": "markdown",
   "metadata": {},
   "source": [
    "## Filter"
   ]
  },
  {
   "cell_type": "code",
   "execution_count": 28,
   "metadata": {},
   "outputs": [
    {
     "data": {
      "application/vnd.jupyter.widget-view+json": {
       "model_id": "",
       "version_major": 2,
       "version_minor": 0
      },
      "text/plain": [
       "FloatProgress(value=0.0, bar_style='info', description='Progress:', layout=Layout(height='25px', width='50%'),…"
      ]
     },
     "metadata": {},
     "output_type": "display_data"
    },
    {
     "name": "stdout",
     "output_type": "stream",
     "text": [
      "+---------------+-------+-------+------------+------+----+---------------+-----------+----------+-----------+---------------+----------+--------+---------+--------+\n",
      "|orderlinenumber|  sales|year_id| productline|qtr_id|msrp|quantityordered|productcode|    status|ordernumber|      orderdate|customerid|dealsize|priceeach|month_id|\n",
      "+---------------+-------+-------+------------+------+----+---------------+-----------+----------+-----------+---------------+----------+--------+---------+--------+\n",
      "|             13|1224.67|   2004|Vintage Cars|     4|  62|             41|   S18_2957|   Shipped|      10322| 11/4/2004 0:00|       928|   Small|    29.87|      11|\n",
      "|              5|1007.14|   2003|Vintage Cars|     4|  33|             37|   S24_1937|   Shipped|      10162|10/18/2003 0:00|      1544|   Small|    27.22|      10|\n",
      "|             10| 759.46|   2003|Vintage Cars|     4|  33|             26|   S24_1937|   Shipped|      10193|11/21/2003 0:00|      1547|   Small|    29.21|      11|\n",
      "|              6|1226.82|   2004|Vintage Cars|     1|  33|             42|   S24_1937|   Shipped|      10227|  3/2/2004 0:00|      1550|   Small|    29.21|       3|\n",
      "|              1| 974.82|   2004|Vintage Cars|     2|  33|             33|   S24_1937|   Shipped|      10243| 4/26/2004 0:00|      1551|   Small|    29.54|       4|\n",
      "|             12|  577.6|   2004|Vintage Cars|     3|  33|             20|   S24_1937|   Shipped|      10280| 8/17/2004 0:00|      1552|   Small|    28.88|       8|\n",
      "|             13|1152.06|   2004|Vintage Cars|     4|  33|             39|   S24_1937|   Shipped|      10312|10/21/2004 0:00|      1555|   Small|    29.54|      10|\n",
      "|              1|1801.94|   2005|Vintage Cars|     2|  33|             61|   S24_1937|   Shipped|      10409| 4/23/2005 0:00|      1563|   Small|    29.54|       4|\n",
      "|              1| 1209.6|   2005|Vintage Cars|     2|  33|             45|   S24_1937|In Process|      10420| 5/29/2005 0:00|      1564|   Small|    26.88|       5|\n",
      "|              7| 905.28|   2003|Classic Cars|     4|  35|             32|   S24_2840|   Shipped|      10195|11/25/2003 0:00|      1725|   Small|    28.29|      11|\n",
      "|              8| 1247.4|   2003|Classic Cars|     4|  35|             42|   S24_2840|   Shipped|      10207| 12/9/2003 0:00|      1726|   Small|     29.7|      12|\n",
      "+---------------+-------+-------+------------+------+----+---------------+-----------+----------+-----------+---------------+----------+--------+---------+--------+"
     ]
    }
   ],
   "source": [
    "new_dyf = Filter.apply(frame=sales, f = lambda x: x['priceeach'] < 30)\n",
    "new_dyf.toDF().show()"
   ]
  },
  {
   "cell_type": "markdown",
   "metadata": {},
   "source": [
    "## SelectFields"
   ]
  },
  {
   "cell_type": "code",
   "execution_count": 30,
   "metadata": {},
   "outputs": [
    {
     "data": {
      "application/vnd.jupyter.widget-view+json": {
       "model_id": "",
       "version_major": 2,
       "version_minor": 0
      },
      "text/plain": [
       "FloatProgress(value=0.0, bar_style='info', description='Progress:', layout=Layout(height='25px', width='50%'),…"
      ]
     },
     "metadata": {},
     "output_type": "display_data"
    },
    {
     "name": "stdout",
     "output_type": "stream",
     "text": [
      "+--------+\n",
      "|month_id|\n",
      "+--------+\n",
      "|       2|\n",
      "|       5|\n",
      "|       7|\n",
      "|       8|\n",
      "|      10|\n",
      "|      10|\n",
      "|      11|\n",
      "|      11|\n",
      "|      12|\n",
      "|       1|\n",
      "|       2|\n",
      "|       4|\n",
      "|       5|\n",
      "|       6|\n",
      "|       7|\n",
      "|       8|\n",
      "|       9|\n",
      "|      10|\n",
      "|      11|\n",
      "|      11|\n",
      "+--------+\n",
      "only showing top 20 rows"
     ]
    }
   ],
   "source": [
    "new_dyf = SelectFields.apply(frame=sales, paths=['month_id'])\n",
    "new_dyf.toDF().show()"
   ]
  },
  {
   "cell_type": "code",
   "execution_count": null,
   "metadata": {},
   "outputs": [],
   "source": []
  }
 ],
 "metadata": {
  "kernelspec": {
   "display_name": "PySpark",
   "language": "",
   "name": "pysparkkernel"
  },
  "language_info": {
   "codemirror_mode": {
    "name": "python",
    "version": 3
   },
   "mimetype": "text/x-python",
   "name": "pyspark",
   "pygments_lexer": "python3"
  }
 },
 "nbformat": 4,
 "nbformat_minor": 4
}
