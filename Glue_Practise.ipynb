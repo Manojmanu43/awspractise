{
 "cells": [
  {
   "cell_type": "code",
   "execution_count": 11,
   "metadata": {},
   "outputs": [
    {
     "data": {
      "application/vnd.jupyter.widget-view+json": {
       "model_id": "",
       "version_major": 2,
       "version_minor": 0
      },
      "text/plain": [
       "FloatProgress(value=0.0, bar_style='info', description='Progress:', layout=Layout(height='25px', width='50%'),…"
      ]
     },
     "metadata": {},
     "output_type": "display_data"
    }
   ],
   "source": [
    "import sys\n",
    "from awsglue.transforms import *\n",
    "from awsglue.utils import getResolvedOptions\n",
    "from pyspark.context import SparkContext\n",
    "from awsglue.context import GlueContext\n",
    "from awsglue.job import Job\n",
    "\n",
    "glueContext = GlueContext(SparkContext.getOrCreate())"
   ]
  },
  {
   "cell_type": "markdown",
   "metadata": {},
   "source": [
    "## Create DynamicFrame from Glue Catalog"
   ]
  },
  {
   "cell_type": "code",
   "execution_count": 12,
   "metadata": {
    "scrolled": true
   },
   "outputs": [
    {
     "data": {
      "application/vnd.jupyter.widget-view+json": {
       "model_id": "",
       "version_major": 2,
       "version_minor": 0
      },
      "text/plain": [
       "FloatProgress(value=0.0, bar_style='info', description='Progress:', layout=Layout(height='25px', width='50%'),…"
      ]
     },
     "metadata": {},
     "output_type": "display_data"
    },
    {
     "name": "stdout",
     "output_type": "stream",
     "text": [
      "Count:  2823\n",
      "root\n",
      "|-- ordernumber: long\n",
      "|-- quantityordered: long\n",
      "|-- priceeach: double\n",
      "|-- orderlinenumber: long\n",
      "|-- sales: double\n",
      "|-- orderdate: string\n",
      "|-- status: string\n",
      "|-- qtr_id: long\n",
      "|-- month_id: long\n",
      "|-- year_id: long\n",
      "|-- productline: string\n",
      "|-- msrp: long\n",
      "|-- productcode: string\n",
      "|-- dealsize: string\n",
      "|-- customerid: long"
     ]
    }
   ],
   "source": [
    "sales = glueContext.create_dynamic_frame.from_catalog(\n",
    "                 database=\"s3_database\",\n",
    "                 table_name=\"sales\")\n",
    "print (\"Count: \", sales.count())\n",
    "sales.printSchema()"
   ]
  },
  {
   "cell_type": "markdown",
   "metadata": {},
   "source": [
    "### Selecting few columns"
   ]
  },
  {
   "cell_type": "code",
   "execution_count": 3,
   "metadata": {},
   "outputs": [
    {
     "data": {
      "application/vnd.jupyter.widget-view+json": {
       "model_id": "",
       "version_major": 2,
       "version_minor": 0
      },
      "text/plain": [
       "FloatProgress(value=0.0, bar_style='info', description='Progress:', layout=Layout(height='25px', width='50%'),…"
      ]
     },
     "metadata": {},
     "output_type": "display_data"
    },
    {
     "name": "stdout",
     "output_type": "stream",
     "text": [
      "+-----------+\n",
      "|ordernumber|\n",
      "+-----------+\n",
      "|      10107|\n",
      "|      10121|\n",
      "|      10134|\n",
      "|      10145|\n",
      "|      10159|\n",
      "+-----------+\n",
      "only showing top 5 rows"
     ]
    }
   ],
   "source": [
    "data = sales.select_fields('ordernumber')\n",
    "data.toDF().show(5)"
   ]
  },
  {
   "cell_type": "code",
   "execution_count": 4,
   "metadata": {
    "scrolled": false
   },
   "outputs": [
    {
     "data": {
      "application/vnd.jupyter.widget-view+json": {
       "model_id": "",
       "version_major": 2,
       "version_minor": 0
      },
      "text/plain": [
       "FloatProgress(value=0.0, bar_style='info', description='Progress:', layout=Layout(height='25px', width='50%'),…"
      ]
     },
     "metadata": {},
     "output_type": "display_data"
    },
    {
     "name": "stdout",
     "output_type": "stream",
     "text": [
      "+-----------+--------+\n",
      "|ordernumber|dealsize|\n",
      "+-----------+--------+\n",
      "|      10107|   Small|\n",
      "|      10121|   Small|\n",
      "+-----------+--------+\n",
      "only showing top 2 rows"
     ]
    }
   ],
   "source": [
    "data = sales.select_fields(['ordernumber','dealsize'])\n",
    "data.toDF().show(2)"
   ]
  },
  {
   "cell_type": "markdown",
   "metadata": {},
   "source": [
    "### Drop Columns"
   ]
  },
  {
   "cell_type": "code",
   "execution_count": 5,
   "metadata": {},
   "outputs": [
    {
     "data": {
      "application/vnd.jupyter.widget-view+json": {
       "model_id": "",
       "version_major": 2,
       "version_minor": 0
      },
      "text/plain": [
       "FloatProgress(value=0.0, bar_style='info', description='Progress:', layout=Layout(height='25px', width='50%'),…"
      ]
     },
     "metadata": {},
     "output_type": "display_data"
    },
    {
     "name": "stdout",
     "output_type": "stream",
     "text": [
      "+-----------+---------------+---------+---------------+------+--------------+-------+------+--------+-------+-----------+-----------+--------+\n",
      "|ordernumber|quantityordered|priceeach|orderlinenumber| sales|     orderdate| status|qtr_id|month_id|year_id|productline|productcode|dealsize|\n",
      "+-----------+---------------+---------+---------------+------+--------------+-------+------+--------+-------+-----------+-----------+--------+\n",
      "|      10107|             30|     95.7|              2|2871.0|2/24/2003 0:00|Shipped|     1|       2|   2003|Motorcycles|   S10_1678|   Small|\n",
      "|      10121|             34|    81.35|              5|2765.9| 5/7/2003 0:00|Shipped|     2|       5|   2003|Motorcycles|   S10_1678|   Small|\n",
      "+-----------+---------------+---------+---------------+------+--------------+-------+------+--------+-------+-----------+-----------+--------+\n",
      "only showing top 2 rows"
     ]
    }
   ],
   "source": [
    "data = sales.drop_fields(['msrp','customerid'])\n",
    "data.toDF().show(2)"
   ]
  },
  {
   "cell_type": "code",
   "execution_count": 6,
   "metadata": {
    "scrolled": true
   },
   "outputs": [
    {
     "data": {
      "application/vnd.jupyter.widget-view+json": {
       "model_id": "",
       "version_major": 2,
       "version_minor": 0
      },
      "text/plain": [
       "FloatProgress(value=0.0, bar_style='info', description='Progress:', layout=Layout(height='25px', width='50%'),…"
      ]
     },
     "metadata": {},
     "output_type": "display_data"
    },
    {
     "name": "stdout",
     "output_type": "stream",
     "text": [
      "+-----------+---------------+---------+---------------+------+--------------+-------+------+--------+-------+-----------+----+-----------+--------+----------+\n",
      "|ordernumber|quantityordered|priceeach|orderlinenumber| sales|     orderdate| status|qtr_id|month_id|year_id|productline|msrp|productcode|dealsize|customerid|\n",
      "+-----------+---------------+---------+---------------+------+--------------+-------+------+--------+-------+-----------+----+-----------+--------+----------+\n",
      "|      10107|             30|     95.7|              2|2871.0|2/24/2003 0:00|Shipped|     1|       2|   2003|Motorcycles|  95|   S10_1678|   Small|         1|\n",
      "|      10121|             34|    81.35|              5|2765.9| 5/7/2003 0:00|Shipped|     2|       5|   2003|Motorcycles|  95|   S10_1678|   Small|         2|\n",
      "+-----------+---------------+---------+---------------+------+--------------+-------+------+--------+-------+-----------+----+-----------+--------+----------+\n",
      "only showing top 2 rows"
     ]
    }
   ],
   "source": [
    "sales.toDF().show(2)"
   ]
  },
  {
   "cell_type": "markdown",
   "metadata": {},
   "source": [
    "### Rename Fileds"
   ]
  },
  {
   "cell_type": "code",
   "execution_count": 9,
   "metadata": {},
   "outputs": [
    {
     "data": {
      "application/vnd.jupyter.widget-view+json": {
       "model_id": "",
       "version_major": 2,
       "version_minor": 0
      },
      "text/plain": [
       "FloatProgress(value=0.0, bar_style='info', description='Progress:', layout=Layout(height='25px', width='50%'),…"
      ]
     },
     "metadata": {},
     "output_type": "display_data"
    },
    {
     "name": "stdout",
     "output_type": "stream",
     "text": [
      "+-----------+---------------+---------+---------------+------+--------------+-------+------+--------+-------+-----------+----+-----------+-------+---------+\n",
      "|ordernumber|quantityordered|priceeach|orderlinenumber| sales|     orderdate| status|qtr_id|month_id|year_id|productline|msrp|productcode|cust-id|deal-size|\n",
      "+-----------+---------------+---------+---------------+------+--------------+-------+------+--------+-------+-----------+----+-----------+-------+---------+\n",
      "|      10107|             30|     95.7|              2|2871.0|2/24/2003 0:00|Shipped|     1|       2|   2003|Motorcycles|  95|   S10_1678|      1|    Small|\n",
      "|      10121|             34|    81.35|              5|2765.9| 5/7/2003 0:00|Shipped|     2|       5|   2003|Motorcycles|  95|   S10_1678|      2|    Small|\n",
      "+-----------+---------------+---------+---------------+------+--------------+-------+------+--------+-------+-----------+----+-----------+-------+---------+\n",
      "only showing top 2 rows"
     ]
    }
   ],
   "source": [
    "data = sales.rename_field('customerid','cust-id').rename_field('dealsize','deal-size')\n",
    "data.toDF().show(2)"
   ]
  },
  {
   "cell_type": "markdown",
   "metadata": {},
   "source": [
    "## Apply Mapping transformation"
   ]
  },
  {
   "cell_type": "markdown",
   "metadata": {},
   "source": [
    "##### apply_mapping transform method to drop, rename, cast, and nest the data so that other data programming languages and systems can easily access it:"
   ]
  },
  {
   "cell_type": "code",
   "execution_count": 19,
   "metadata": {},
   "outputs": [
    {
     "data": {
      "application/vnd.jupyter.widget-view+json": {
       "model_id": "",
       "version_major": 2,
       "version_minor": 0
      },
      "text/plain": [
       "FloatProgress(value=0.0, bar_style='info', description='Progress:', layout=Layout(height='25px', width='50%'),…"
      ]
     },
     "metadata": {},
     "output_type": "display_data"
    }
   ],
   "source": [
    "new_dyf = sales.apply_mapping([('quantityordered','long','quantityordered','double')]) "
   ]
  },
  {
   "cell_type": "code",
   "execution_count": 20,
   "metadata": {},
   "outputs": [
    {
     "data": {
      "application/vnd.jupyter.widget-view+json": {
       "model_id": "",
       "version_major": 2,
       "version_minor": 0
      },
      "text/plain": [
       "FloatProgress(value=0.0, bar_style='info', description='Progress:', layout=Layout(height='25px', width='50%'),…"
      ]
     },
     "metadata": {},
     "output_type": "display_data"
    },
    {
     "name": "stdout",
     "output_type": "stream",
     "text": [
      "root\n",
      "|-- quantityordered: double"
     ]
    }
   ],
   "source": [
    "new_dyf.printSchema()"
   ]
  },
  {
   "cell_type": "code",
   "execution_count": 21,
   "metadata": {},
   "outputs": [
    {
     "data": {
      "application/vnd.jupyter.widget-view+json": {
       "model_id": "",
       "version_major": 2,
       "version_minor": 0
      },
      "text/plain": [
       "FloatProgress(value=0.0, bar_style='info', description='Progress:', layout=Layout(height='25px', width='50%'),…"
      ]
     },
     "metadata": {},
     "output_type": "display_data"
    },
    {
     "name": "stdout",
     "output_type": "stream",
     "text": [
      "StructType([Field(quantityordered, DoubleType({}), {})], {})"
     ]
    }
   ],
   "source": [
    "new_dyf.schema()"
   ]
  },
  {
   "cell_type": "code",
   "execution_count": 16,
   "metadata": {},
   "outputs": [
    {
     "data": {
      "application/vnd.jupyter.widget-view+json": {
       "model_id": "",
       "version_major": 2,
       "version_minor": 0
      },
      "text/plain": [
       "FloatProgress(value=0.0, bar_style='info', description='Progress:', layout=Layout(height='25px', width='50%'),…"
      ]
     },
     "metadata": {},
     "output_type": "display_data"
    },
    {
     "name": "stdout",
     "output_type": "stream",
     "text": [
      "+---------------+\n",
      "|quantityordered|\n",
      "+---------------+\n",
      "|           30.0|\n",
      "|           34.0|\n",
      "+---------------+\n",
      "only showing top 2 rows"
     ]
    }
   ],
   "source": [
    "new_dyf.toDF().show(2)"
   ]
  },
  {
   "cell_type": "markdown",
   "metadata": {},
   "source": [
    "## Filter"
   ]
  },
  {
   "cell_type": "code",
   "execution_count": 38,
   "metadata": {},
   "outputs": [
    {
     "data": {
      "application/vnd.jupyter.widget-view+json": {
       "model_id": "",
       "version_major": 2,
       "version_minor": 0
      },
      "text/plain": [
       "FloatProgress(value=0.0, bar_style='info', description='Progress:', layout=Layout(height='25px', width='50%'),…"
      ]
     },
     "metadata": {},
     "output_type": "display_data"
    },
    {
     "name": "stdout",
     "output_type": "stream",
     "text": [
      "++\n",
      "||\n",
      "++\n",
      "++"
     ]
    }
   ],
   "source": [
    "sales.filter('sales' > '100').toDF().show()"
   ]
  },
  {
   "cell_type": "markdown",
   "metadata": {},
   "source": [
    "## Joining dataframes"
   ]
  },
  {
   "cell_type": "markdown",
   "metadata": {},
   "source": [
    "#### AWS Glue currenty support only inner join, to perform other joins Dynamic Frames to be converted to Spark Dataframes"
   ]
  },
  {
   "cell_type": "code",
   "execution_count": 27,
   "metadata": {},
   "outputs": [
    {
     "data": {
      "application/vnd.jupyter.widget-view+json": {
       "model_id": "",
       "version_major": 2,
       "version_minor": 0
      },
      "text/plain": [
       "FloatProgress(value=0.0, bar_style='info', description='Progress:', layout=Layout(height='25px', width='50%'),…"
      ]
     },
     "metadata": {},
     "output_type": "display_data"
    }
   ],
   "source": [
    "customers = glueContext.create_dynamic_frame.from_catalog(database='s3_database',table_name='customers')"
   ]
  },
  {
   "cell_type": "code",
   "execution_count": 28,
   "metadata": {},
   "outputs": [
    {
     "data": {
      "application/vnd.jupyter.widget-view+json": {
       "model_id": "",
       "version_major": 2,
       "version_minor": 0
      },
      "text/plain": [
       "FloatProgress(value=0.0, bar_style='info', description='Progress:', layout=Layout(height='25px', width='50%'),…"
      ]
     },
     "metadata": {},
     "output_type": "display_data"
    },
    {
     "name": "stdout",
     "output_type": "stream",
     "text": [
      "root\n",
      "|-- customerid: long\n",
      "|-- customername: string\n",
      "|-- email: string\n",
      "|-- city: string\n",
      "|-- country: string\n",
      "|-- territory: string\n",
      "|-- contactfirstname: string\n",
      "|-- contactlastname: string"
     ]
    }
   ],
   "source": [
    "customers.printSchema()"
   ]
  },
  {
   "cell_type": "code",
   "execution_count": 29,
   "metadata": {},
   "outputs": [
    {
     "data": {
      "application/vnd.jupyter.widget-view+json": {
       "model_id": "",
       "version_major": 2,
       "version_minor": 0
      },
      "text/plain": [
       "FloatProgress(value=0.0, bar_style='info', description='Progress:', layout=Layout(height='25px', width='50%'),…"
      ]
     },
     "metadata": {},
     "output_type": "display_data"
    },
    {
     "name": "stdout",
     "output_type": "stream",
     "text": [
      "+---------------+-------+---------+--------------+--------------------+-------+------------+---------------+---------+-----------+------+----+---------------+-----------+-------+-------------------+----------------+-----------+---------------+----------+--------+--------+---------+\n",
      "|orderlinenumber|  sales|territory|          city|        customername|year_id| productline|contactlastname|  country|.customerid|qtr_id|msrp|quantityordered|productcode| status|              email|contactfirstname|ordernumber|      orderdate|customerid|dealsize|month_id|priceeach|\n",
      "+---------------+-------+---------+--------------+--------------------+-------+------------+---------------+---------+-----------+------+----+---------------+-----------+-------+-------------------+----------------+-----------+---------------+----------+--------+--------+---------+\n",
      "|              8|10993.5|    Japan|     Singapore|Dragon Souveniers...|   2003|Classic Cars|         Corrio|Singapore|         31|     3| 214|             45|   S10_1949|Shipped|   bmalet@yahoo.com|           Ammie|      10150| 9/19/2003 0:00|        31|   Large|       9|    100.0|\n",
      "|              4|8014.82|     APAC|South Brisbane|Australian Gift N...|   2003|Classic Cars|       Stenseth|Australia|         33|     4| 214|             34|   S10_1949|Shipped|lnestle@hotmail.com|           Ernie|      10174| 11/6/2003 0:00|        33|   Large|      11|    100.0|\n",
      "|              3|9774.03|     APAC|     Melbourne|Australian Collec...|   2004| Motorcycles|        Wardrip|Australia|         91|     1| 193|             49|   S10_4698|Shipped|   twardrip@cox.net|         Tammara|      10223| 2/20/2004 0:00|        91|   Large|       2|    100.0|\n",
      "|             14|4708.44|     EMEA|         Paris|    Auto Canal Petit|   2004| Motorcycles|        Marrier|   France|         10|     1|  95|             41|   S10_1678|Shipped|    vinouye@aol.com|            Kris|      10211| 1/15/2004 0:00|        10|  Medium|       1|    100.0|\n",
      "|              2|4043.96|       NA|  White Plains|       Mini Classics|   2004| Motorcycles|       Abdallah|      USA|         72|     4| 118|             34|   S10_2016|Shipped|lnestle@hotmail.com|        Johnetta|      10308|10/15/2004 0:00|        72|  Medium|      10|    100.0|\n",
      "+---------------+-------+---------+--------------+--------------------+-------+------------+---------------+---------+-----------+------+----+---------------+-----------+-------+-------------------+----------------+-----------+---------------+----------+--------+--------+---------+\n",
      "only showing top 5 rows\n",
      "\n",
      "root\n",
      "|-- orderlinenumber: long\n",
      "|-- sales: double\n",
      "|-- territory: string\n",
      "|-- city: string\n",
      "|-- customername: string\n",
      "|-- year_id: long\n",
      "|-- productline: string\n",
      "|-- contactlastname: string\n",
      "|-- country: string\n",
      "|-- .customerid: long\n",
      "|-- qtr_id: long\n",
      "|-- msrp: long\n",
      "|-- quantityordered: long\n",
      "|-- productcode: string\n",
      "|-- status: string\n",
      "|-- email: string\n",
      "|-- contactfirstname: string\n",
      "|-- ordernumber: long\n",
      "|-- orderdate: string\n",
      "|-- customerid: long\n",
      "|-- dealsize: string\n",
      "|-- month_id: long\n",
      "|-- priceeach: double"
     ]
    }
   ],
   "source": [
    "Join_DF = Join.apply(sales,customers,'customerid','customerid').drop_fields('.customerid')\n",
    "Join_DF.toDF().show(5)\n",
    "Join_DF.printSchema()"
   ]
  },
  {
   "cell_type": "code",
   "execution_count": 8,
   "metadata": {},
   "outputs": [
    {
     "data": {
      "application/vnd.jupyter.widget-view+json": {
       "model_id": "",
       "version_major": 2,
       "version_minor": 0
      },
      "text/plain": [
       "FloatProgress(value=0.0, bar_style='info', description='Progress:', layout=Layout(height='25px', width='50%'),…"
      ]
     },
     "metadata": {},
     "output_type": "display_data"
    },
    {
     "name": "stdout",
     "output_type": "stream",
     "text": [
      "<class 'awsglue.dynamicframe.DynamicFrame'>"
     ]
    }
   ],
   "source": [
    "type(Join_DF)"
   ]
  },
  {
   "cell_type": "code",
   "execution_count": null,
   "metadata": {},
   "outputs": [],
   "source": []
  },
  {
   "cell_type": "markdown",
   "metadata": {},
   "source": [
    "## map"
   ]
  },
  {
   "cell_type": "markdown",
   "metadata": {},
   "source": [
    "## spigot"
   ]
  },
  {
   "cell_type": "markdown",
   "metadata": {},
   "source": [
    "## mergeDynamicFrame"
   ]
  },
  {
   "cell_type": "markdown",
   "metadata": {},
   "source": [
    "# relationalize"
   ]
  },
  {
   "cell_type": "markdown",
   "metadata": {},
   "source": [
    "## resolve_choice"
   ]
  },
  {
   "cell_type": "markdown",
   "metadata": {},
   "source": [
    "source: https://docs.aws.amazon.com/glue/latest/dg/aws-glue-programming-python-samples-medicaid.html"
   ]
  },
  {
   "cell_type": "code",
   "execution_count": 5,
   "metadata": {},
   "outputs": [
    {
     "data": {
      "application/vnd.jupyter.widget-view+json": {
       "model_id": "",
       "version_major": 2,
       "version_minor": 0
      },
      "text/plain": [
       "FloatProgress(value=0.0, bar_style='info', description='Progress:', layout=Layout(height='25px', width='50%'),…"
      ]
     },
     "metadata": {},
     "output_type": "display_data"
    },
    {
     "name": "stdout",
     "output_type": "stream",
     "text": [
      "root\n",
      "|-- drg definition: string\n",
      "|-- provider id: choice\n",
      "|    |-- long\n",
      "|    |-- string\n",
      "|-- provider name: string\n",
      "|-- provider street address: string\n",
      "|-- provider city: string\n",
      "|-- provider state: string\n",
      "|-- provider zip code: long\n",
      "|-- hospital referral region description: string\n",
      "|-- total discharges: long\n",
      "|-- average covered charges: string\n",
      "|-- average total payments: string\n",
      "|-- average medicare payments: string"
     ]
    }
   ],
   "source": [
    "medicare_dynamicframe = glueContext.create_dynamic_frame.from_catalog(\n",
    "       database = \"s3_database\",\n",
    "       table_name = \"medicare_hospital_provider_csv\")\n",
    "medicare_dynamicframe.printSchema()"
   ]
  },
  {
   "cell_type": "code",
   "execution_count": 8,
   "metadata": {},
   "outputs": [
    {
     "data": {
      "application/vnd.jupyter.widget-view+json": {
       "model_id": "",
       "version_major": 2,
       "version_minor": 0
      },
      "text/plain": [
       "FloatProgress(value=0.0, bar_style='info', description='Progress:', layout=Layout(height='25px', width='50%'),…"
      ]
     },
     "metadata": {},
     "output_type": "display_data"
    }
   ],
   "source": [
    "medicare_res = medicare_dynamicframe.resolveChoice(specs = [('provider id','cast:long')])"
   ]
  },
  {
   "cell_type": "code",
   "execution_count": 9,
   "metadata": {},
   "outputs": [
    {
     "data": {
      "application/vnd.jupyter.widget-view+json": {
       "model_id": "",
       "version_major": 2,
       "version_minor": 0
      },
      "text/plain": [
       "FloatProgress(value=0.0, bar_style='info', description='Progress:', layout=Layout(height='25px', width='50%'),…"
      ]
     },
     "metadata": {},
     "output_type": "display_data"
    },
    {
     "name": "stdout",
     "output_type": "stream",
     "text": [
      "root\n",
      "|-- drg definition: string\n",
      "|-- provider id: long\n",
      "|-- provider name: string\n",
      "|-- provider street address: string\n",
      "|-- provider city: string\n",
      "|-- provider state: string\n",
      "|-- provider zip code: long\n",
      "|-- hospital referral region description: string\n",
      "|-- total discharges: long\n",
      "|-- average covered charges: string\n",
      "|-- average total payments: string\n",
      "|-- average medicare payments: string"
     ]
    }
   ],
   "source": [
    "medicare_res.printSchema()"
   ]
  },
  {
   "cell_type": "markdown",
   "metadata": {},
   "source": [
    "## split_fields"
   ]
  },
  {
   "cell_type": "markdown",
   "metadata": {},
   "source": [
    "# Split_rows"
   ]
  },
  {
   "cell_type": "markdown",
   "metadata": {},
   "source": [
    "## unbox"
   ]
  },
  {
   "cell_type": "markdown",
   "metadata": {},
   "source": [
    "## Unnest"
   ]
  },
  {
   "cell_type": "markdown",
   "metadata": {},
   "source": [
    "## write"
   ]
  },
  {
   "cell_type": "code",
   "execution_count": 9,
   "metadata": {},
   "outputs": [
    {
     "data": {
      "application/vnd.jupyter.widget-view+json": {
       "model_id": "",
       "version_major": 2,
       "version_minor": 0
      },
      "text/plain": [
       "FloatProgress(value=0.0, bar_style='info', description='Progress:', layout=Layout(height='25px', width='50%'),…"
      ]
     },
     "metadata": {},
     "output_type": "display_data"
    },
    {
     "name": "stdout",
     "output_type": "stream",
     "text": [
      "<awsglue.dynamicframe.DynamicFrame object at 0x7f7e57f6e438>"
     ]
    }
   ],
   "source": [
    "glueContext.write_dynamic_frame.from_options(frame = Join_DF,\n",
    "                                             connection_type=\"s3\", \n",
    "                                             connection_options= {\"path\":\"s3://hivedata-load/output/glue-new\"},\n",
    "                                             format=\"parquet\")"
   ]
  },
  {
   "cell_type": "code",
   "execution_count": 30,
   "metadata": {
    "scrolled": true
   },
   "outputs": [
    {
     "data": {
      "application/vnd.jupyter.widget-view+json": {
       "model_id": "",
       "version_major": 2,
       "version_minor": 0
      },
      "text/plain": [
       "FloatProgress(value=0.0, bar_style='info', description='Progress:', layout=Layout(height='25px', width='50%'),…"
      ]
     },
     "metadata": {},
     "output_type": "display_data"
    },
    {
     "name": "stdout",
     "output_type": "stream",
     "text": [
      "<awsglue.dynamicframe.DynamicFrame object at 0x7f2fe270f9b0>"
     ]
    }
   ],
   "source": [
    "glueContext.write_dynamic_frame.from_options(frame = Join_DF,\n",
    "          connection_type = \"s3\",\n",
    "          connection_options = {\"path\": \"s3://hivedata-load/output/out\"},\n",
    "          format = \"csv\",\n",
    "        format_options={'withHeader': True})"
   ]
  },
  {
   "cell_type": "code",
   "execution_count": 25,
   "metadata": {},
   "outputs": [
    {
     "data": {
      "application/vnd.jupyter.widget-view+json": {
       "model_id": "",
       "version_major": 2,
       "version_minor": 0
      },
      "text/plain": [
       "FloatProgress(value=0.0, bar_style='info', description='Progress:', layout=Layout(height='25px', width='50%'),…"
      ]
     },
     "metadata": {},
     "output_type": "display_data"
    },
    {
     "name": "stdout",
     "output_type": "stream",
     "text": [
      "Help on method from_options in module awsglue.dynamicframe:\n",
      "\n",
      "from_options(frame, connection_type, connection_options={}, format=None, format_options={}, transformation_ctx='') method of awsglue.dynamicframe.DynamicFrameWriter instance\n",
      "    Creates a DynamicFrame with the specified connection and format."
     ]
    }
   ],
   "source": [
    "help(glueContext.write_dynamic_frame.from_options)"
   ]
  },
  {
   "cell_type": "markdown",
   "metadata": {},
   "source": [
    "### write Parquet Partition files"
   ]
  },
  {
   "cell_type": "markdown",
   "metadata": {},
   "source": [
    "##### glueparquet files gave error, need to check later"
   ]
  },
  {
   "cell_type": "markdown",
   "metadata": {},
   "source": [
    "#### Reasonglueparquet format not supported fordeveloper environment"
   ]
  },
  {
   "cell_type": "markdown",
   "metadata": {},
   "source": [
    "glueContext.write_dynamic_frame.from_options(frame = Join_DF,\n",
    "          connection_type = \"s3\",\n",
    "          connection_options = {\"path\": \"s3://hivedata-load/output/glueparquet-part\",\n",
    "                               \"partitionKeys\" : [\"year_id\"]\n",
    "                               },\n",
    "          format = \"glueparquet\",\n",
    "          format_options = {\"compression\": \"snappy\"})"
   ]
  },
  {
   "cell_type": "code",
   "execution_count": 20,
   "metadata": {},
   "outputs": [
    {
     "data": {
      "application/vnd.jupyter.widget-view+json": {
       "model_id": "",
       "version_major": 2,
       "version_minor": 0
      },
      "text/plain": [
       "FloatProgress(value=0.0, bar_style='info', description='Progress:', layout=Layout(height='25px', width='50%'),…"
      ]
     },
     "metadata": {},
     "output_type": "display_data"
    },
    {
     "name": "stdout",
     "output_type": "stream",
     "text": [
      "<awsglue.dynamicframe.DynamicFrame object at 0x7f7e57fbcb00>"
     ]
    }
   ],
   "source": [
    "glueContext.write_dynamic_frame.from_options(frame = Join_DF,\n",
    "          connection_type = \"s3\",\n",
    "          connection_options = {\"path\": \"s3://hivedata-load/output/parquet-part\",\n",
    "                               \"partitionKeys\" : [\"year_id\"]\n",
    "                               },\n",
    "          format = \"parquet\")\n"
   ]
  },
  {
   "cell_type": "markdown",
   "metadata": {},
   "source": [
    "### Create Dynamic Dataframe from s3"
   ]
  },
  {
   "cell_type": "code",
   "execution_count": 10,
   "metadata": {},
   "outputs": [
    {
     "data": {
      "application/vnd.jupyter.widget-view+json": {
       "model_id": "",
       "version_major": 2,
       "version_minor": 0
      },
      "text/plain": [
       "FloatProgress(value=0.0, bar_style='info', description='Progress:', layout=Layout(height='25px', width='50%'),…"
      ]
     },
     "metadata": {},
     "output_type": "display_data"
    }
   ],
   "source": [
    "data1 = glueContext.create_dynamic_frame_from_options(connection_type=\"s3\",\n",
    "                                                      connection_options={\"path\":[\"s3://hivedata-load/ouput/glue-new\"]},\n",
    "                                                      format=\"parquet\")"
   ]
  },
  {
   "cell_type": "code",
   "execution_count": 39,
   "metadata": {},
   "outputs": [
    {
     "data": {
      "application/vnd.jupyter.widget-view+json": {
       "model_id": "",
       "version_major": 2,
       "version_minor": 0
      },
      "text/plain": [
       "FloatProgress(value=0.0, bar_style='info', description='Progress:', layout=Layout(height='25px', width='50%'),…"
      ]
     },
     "metadata": {},
     "output_type": "display_data"
    }
   ],
   "source": [
    "data3 = glueContext.create_dynamic_frame_from_options(connection_type=\"s3\",\n",
    "                                                      connection_options={\"path\":[\"s3://hivedata-load/input/sales.csv\"]},\n",
    "                                                      format=\"csv\",\n",
    "                                                      format_options={'withHeader': True})"
   ]
  },
  {
   "cell_type": "code",
   "execution_count": 40,
   "metadata": {},
   "outputs": [
    {
     "data": {
      "application/vnd.jupyter.widget-view+json": {
       "model_id": "",
       "version_major": 2,
       "version_minor": 0
      },
      "text/plain": [
       "FloatProgress(value=0.0, bar_style='info', description='Progress:', layout=Layout(height='25px', width='50%'),…"
      ]
     },
     "metadata": {},
     "output_type": "display_data"
    },
    {
     "name": "stdout",
     "output_type": "stream",
     "text": [
      "++\n",
      "||\n",
      "++\n",
      "++"
     ]
    }
   ],
   "source": [
    "data3.toDF().show(5)"
   ]
  },
  {
   "cell_type": "code",
   "execution_count": 27,
   "metadata": {},
   "outputs": [
    {
     "data": {
      "application/vnd.jupyter.widget-view+json": {
       "model_id": "",
       "version_major": 2,
       "version_minor": 0
      },
      "text/plain": [
       "FloatProgress(value=0.0, bar_style='info', description='Progress:', layout=Layout(height='25px', width='50%'),…"
      ]
     },
     "metadata": {},
     "output_type": "display_data"
    },
    {
     "name": "stdout",
     "output_type": "stream",
     "text": [
      "root"
     ]
    }
   ],
   "source": [
    "data1.printSchema()"
   ]
  },
  {
   "cell_type": "code",
   "execution_count": 29,
   "metadata": {},
   "outputs": [
    {
     "data": {
      "application/vnd.jupyter.widget-view+json": {
       "model_id": "",
       "version_major": 2,
       "version_minor": 0
      },
      "text/plain": [
       "FloatProgress(value=0.0, bar_style='info', description='Progress:', layout=Layout(height='25px', width='50%'),…"
      ]
     },
     "metadata": {},
     "output_type": "display_data"
    },
    {
     "name": "stdout",
     "output_type": "stream",
     "text": [
      "+---------------+-------+---------+---------+--------------------+-------+------------+---------------+---------+-----------+------+----+---------------+-----------+-------+----------------+----------------+-----------+--------------+----------+--------+--------+---------+\n",
      "|orderlinenumber|  sales|territory|     city|        customername|year_id| productline|contactlastname|  country|.customerid|qtr_id|msrp|quantityordered|productcode| status|           email|contactfirstname|ordernumber|     orderdate|customerid|dealsize|month_id|priceeach|\n",
      "+---------------+-------+---------+---------+--------------------+-------+------------+---------------+---------+-----------+------+----+---------------+-----------+-------+----------------+----------------+-----------+--------------+----------+--------+--------+---------+\n",
      "|              8|10993.5|    Japan|Singapore|Dragon Souveniers...|   2003|Classic Cars|         Corrio|Singapore|         31|     3| 214|             45|   S10_1949|Shipped|bmalet@yahoo.com|           Ammie|      10150|9/19/2003 0:00|        31|   Large|       9|    100.0|\n",
      "+---------------+-------+---------+---------+--------------------+-------+------------+---------------+---------+-----------+------+----+---------------+-----------+-------+----------------+----------------+-----------+--------------+----------+--------+--------+---------+\n",
      "only showing top 1 row"
     ]
    }
   ],
   "source": [
    "Join_DF.toDF().show(1)"
   ]
  },
  {
   "cell_type": "code",
   "execution_count": 15,
   "metadata": {},
   "outputs": [
    {
     "data": {
      "application/vnd.jupyter.widget-view+json": {
       "model_id": "",
       "version_major": 2,
       "version_minor": 0
      },
      "text/plain": [
       "FloatProgress(value=0.0, bar_style='info', description='Progress:', layout=Layout(height='25px', width='50%'),…"
      ]
     },
     "metadata": {},
     "output_type": "display_data"
    },
    {
     "name": "stdout",
     "output_type": "stream",
     "text": [
      "+-------+\n",
      "|year_id|\n",
      "+-------+\n",
      "|   2004|\n",
      "|   2003|\n",
      "|   2005|\n",
      "+-------+"
     ]
    }
   ],
   "source": [
    "Join_DF.toDF().select('year_id').distinct().show()"
   ]
  },
  {
   "cell_type": "markdown",
   "metadata": {},
   "source": [
    "### Relationalize"
   ]
  },
  {
   "cell_type": "code",
   "execution_count": null,
   "metadata": {},
   "outputs": [],
   "source": []
  },
  {
   "cell_type": "markdown",
   "metadata": {},
   "source": [
    "## Write into Redshift"
   ]
  },
  {
   "cell_type": "code",
   "execution_count": 6,
   "metadata": {},
   "outputs": [
    {
     "data": {
      "application/vnd.jupyter.widget-view+json": {
       "model_id": "",
       "version_major": 2,
       "version_minor": 0
      },
      "text/plain": [
       "FloatProgress(value=0.0, bar_style='info', description='Progress:', layout=Layout(height='25px', width='50%'),…"
      ]
     },
     "metadata": {},
     "output_type": "display_data"
    },
    {
     "name": "stderr",
     "output_type": "stream",
     "text": [
      "An error was encountered:\n",
      "An error occurred while calling o40.getJDBCSink.\n",
      ": java.lang.ClassNotFoundException: com.amazon.redshift.jdbc41.Driver\n",
      "\tat java.net.URLClassLoader.findClass(URLClassLoader.java:381)\n",
      "\tat java.lang.ClassLoader.loadClass(ClassLoader.java:424)\n",
      "\tat sun.misc.Launcher$AppClassLoader.loadClass(Launcher.java:331)\n",
      "\tat java.lang.ClassLoader.loadClass(ClassLoader.java:357)\n",
      "\tat java.lang.Class.forName0(Native Method)\n",
      "\tat java.lang.Class.forName(Class.java:264)\n",
      "\tat com.amazonaws.services.glue.util.RedshiftUtils$.loadDriver(JDBCUtils.scala:644)\n",
      "\tat com.amazonaws.services.glue.util.JDBCWrapper.getRawConnection(JDBCUtils.scala:678)\n",
      "\tat com.amazonaws.services.glue.RedshiftDataSink.<init>(RedshiftDataSink.scala:40)\n",
      "\tat com.amazonaws.services.glue.GlueContext.getSink(GlueContext.scala:650)\n",
      "\tat com.amazonaws.services.glue.GlueContext.getJDBCSink(GlueContext.scala:463)\n",
      "\tat com.amazonaws.services.glue.GlueContext.getJDBCSink(GlueContext.scala:445)\n",
      "\tat sun.reflect.NativeMethodAccessorImpl.invoke0(Native Method)\n",
      "\tat sun.reflect.NativeMethodAccessorImpl.invoke(NativeMethodAccessorImpl.java:62)\n",
      "\tat sun.reflect.DelegatingMethodAccessorImpl.invoke(DelegatingMethodAccessorImpl.java:43)\n",
      "\tat java.lang.reflect.Method.invoke(Method.java:498)\n",
      "\tat py4j.reflection.MethodInvoker.invoke(MethodInvoker.java:244)\n",
      "\tat py4j.reflection.ReflectionEngine.invoke(ReflectionEngine.java:357)\n",
      "\tat py4j.Gateway.invoke(Gateway.java:282)\n",
      "\tat py4j.commands.AbstractCommand.invokeMethod(AbstractCommand.java:132)\n",
      "\tat py4j.commands.CallCommand.execute(CallCommand.java:79)\n",
      "\tat py4j.GatewayConnection.run(GatewayConnection.java:238)\n",
      "\tat java.lang.Thread.run(Thread.java:745)\n",
      "\n",
      "Traceback (most recent call last):\n",
      "  File \"/home/aws-glue-libs/awsglue.zip/awsglue/dynamicframe.py\", line 665, in from_jdbc_conf\n",
      "    redshift_tmp_dir, transformation_ctx)\n",
      "  File \"/home/aws-glue-libs/awsglue.zip/awsglue/context.py\", line 269, in write_dynamic_frame_from_jdbc_conf\n",
      "    catalog_id)\n",
      "  File \"/home/aws-glue-libs/awsglue.zip/awsglue/context.py\", line 284, in write_from_jdbc_conf\n",
      "    transformation_ctx, catalog_id)\n",
      "  File \"/home/spark-2.4.3-bin-spark-2.4.3-bin-hadoop2.8/python/lib/py4j-0.10.7-src.zip/py4j/java_gateway.py\", line 1257, in __call__\n",
      "    answer, self.gateway_client, self.target_id, self.name)\n",
      "  File \"/home/spark-2.4.3-bin-spark-2.4.3-bin-hadoop2.8/python/lib/pyspark.zip/pyspark/sql/utils.py\", line 63, in deco\n",
      "    return f(*a, **kw)\n",
      "  File \"/home/spark-2.4.3-bin-spark-2.4.3-bin-hadoop2.8/python/lib/py4j-0.10.7-src.zip/py4j/protocol.py\", line 328, in get_return_value\n",
      "    format(target_id, \".\", name), value)\n",
      "py4j.protocol.Py4JJavaError: An error occurred while calling o40.getJDBCSink.\n",
      ": java.lang.ClassNotFoundException: com.amazon.redshift.jdbc41.Driver\n",
      "\tat java.net.URLClassLoader.findClass(URLClassLoader.java:381)\n",
      "\tat java.lang.ClassLoader.loadClass(ClassLoader.java:424)\n",
      "\tat sun.misc.Launcher$AppClassLoader.loadClass(Launcher.java:331)\n",
      "\tat java.lang.ClassLoader.loadClass(ClassLoader.java:357)\n",
      "\tat java.lang.Class.forName0(Native Method)\n",
      "\tat java.lang.Class.forName(Class.java:264)\n",
      "\tat com.amazonaws.services.glue.util.RedshiftUtils$.loadDriver(JDBCUtils.scala:644)\n",
      "\tat com.amazonaws.services.glue.util.JDBCWrapper.getRawConnection(JDBCUtils.scala:678)\n",
      "\tat com.amazonaws.services.glue.RedshiftDataSink.<init>(RedshiftDataSink.scala:40)\n",
      "\tat com.amazonaws.services.glue.GlueContext.getSink(GlueContext.scala:650)\n",
      "\tat com.amazonaws.services.glue.GlueContext.getJDBCSink(GlueContext.scala:463)\n",
      "\tat com.amazonaws.services.glue.GlueContext.getJDBCSink(GlueContext.scala:445)\n",
      "\tat sun.reflect.NativeMethodAccessorImpl.invoke0(Native Method)\n",
      "\tat sun.reflect.NativeMethodAccessorImpl.invoke(NativeMethodAccessorImpl.java:62)\n",
      "\tat sun.reflect.DelegatingMethodAccessorImpl.invoke(DelegatingMethodAccessorImpl.java:43)\n",
      "\tat java.lang.reflect.Method.invoke(Method.java:498)\n",
      "\tat py4j.reflection.MethodInvoker.invoke(MethodInvoker.java:244)\n",
      "\tat py4j.reflection.ReflectionEngine.invoke(ReflectionEngine.java:357)\n",
      "\tat py4j.Gateway.invoke(Gateway.java:282)\n",
      "\tat py4j.commands.AbstractCommand.invokeMethod(AbstractCommand.java:132)\n",
      "\tat py4j.commands.CallCommand.execute(CallCommand.java:79)\n",
      "\tat py4j.GatewayConnection.run(GatewayConnection.java:238)\n",
      "\tat java.lang.Thread.run(Thread.java:745)\n",
      "\n",
      "\n"
     ]
    }
   ],
   "source": [
    "glueContext.write_dynamic_frame.from_jdbc_conf(frame = Join_DF,\n",
    "                                                   catalog_connection = \"redshift-connection\",\n",
    "                                                   connection_options = {\"dbtable\": \"sales_data\", \"database\": \"dev\"},\n",
    "                                                   redshift_tmp_dir = \"s3://glue-sample-target/temp-dir/\")"
   ]
  },
  {
   "cell_type": "code",
   "execution_count": null,
   "metadata": {},
   "outputs": [],
   "source": []
  }
 ],
 "metadata": {
  "kernelspec": {
   "display_name": "PySpark",
   "language": "",
   "name": "pysparkkernel"
  },
  "language_info": {
   "codemirror_mode": {
    "name": "python",
    "version": 3
   },
   "mimetype": "text/x-python",
   "name": "pyspark",
   "pygments_lexer": "python3"
  }
 },
 "nbformat": 4,
 "nbformat_minor": 4
}
